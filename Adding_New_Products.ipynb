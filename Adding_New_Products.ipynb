{
  "nbformat": 4,
  "nbformat_minor": 0,
  "metadata": {
    "colab": {
      "name": "Adding New Products.ipynb",
      "provenance": []
    },
    "kernelspec": {
      "name": "python3",
      "display_name": "Python 3"
    },
    "language_info": {
      "name": "python"
    }
  },
  "cells": [
    {
      "cell_type": "markdown",
      "metadata": {
        "id": "jPXB7CU-xdlf"
      },
      "source": [
        "**Read Data From Json**"
      ]
    },
    {
      "cell_type": "code",
      "metadata": {
        "id": "j6gHOx_6xCHW"
      },
      "source": [
        "import json"
      ],
      "execution_count": 4,
      "outputs": []
    },
    {
      "cell_type": "code",
      "metadata": {
        "id": "bAdqIdv-vUb_"
      },
      "source": [
        "fd=open(\"products.json\",\"r\")\n",
        "r=fd.read()\n",
        "fd.close()"
      ],
      "execution_count": 5,
      "outputs": []
    },
    {
      "cell_type": "code",
      "metadata": {
        "id": "MX2OLZeBww8R"
      },
      "source": [
        "products=json.loads(r)"
      ],
      "execution_count": 6,
      "outputs": []
    },
    {
      "cell_type": "markdown",
      "metadata": {
        "id": "pw1eelTO5FT5"
      },
      "source": [
        "**Add New Item into the Inventory**"
      ]
    },
    {
      "cell_type": "code",
      "metadata": {
        "colab": {
          "base_uri": "https://localhost:8080/"
        },
        "id": "rj2weqWV2kfR",
        "outputId": "3cf1ec9d-4791-4935-c908-95507b724021"
      },
      "source": [
        "prod_id=str(input(\"Enter product id:\"))\n",
        "name=str(input(\"Enter product name:\"))\n",
        "price=int(input(\"Enter price of product:\"))\n",
        "quant=int(input(\"Enter quantity of product:\"))\n",
        "expire=str(input(\"Enter expiration details:\"))\n",
        "validity=str(input(\"Enter validate months:\"))\n",
        "\n",
        "if prod_id in products.keys():\n",
        "  products[prod_id]={'item_name':name,'price':price,'quantity':products[prod_id]['quantity']+quant,'expire':expire,'validity':validity}\n",
        "else:\n",
        "  products[prod_id]={'item_name':name,'price':price,'quantity':quant,'expire':expire,'validity':validity}\n",
        "\n",
        "js=json.dumps(products)\n",
        "\n",
        "fd=open(\"products.json\",'w')\n",
        "fd.write(js)\n",
        "fd.close()\n",
        "\n"
      ],
      "execution_count": 20,
      "outputs": [
        {
          "name": "stdout",
          "output_type": "stream",
          "text": [
            "Enter product id:1032\n",
            "Enter product name:Paneer\n",
            "Enter price of product:50\n",
            "Enter quantity of product:60\n",
            "Enter expiration details:dec-2021\n",
            "Enter validate months:5 months\n"
          ]
        }
      ]
    },
    {
      "cell_type": "code",
      "metadata": {
        "id": "86PbBAzv384g"
      },
      "source": [
        ""
      ],
      "execution_count": 20,
      "outputs": []
    }
  ]
}