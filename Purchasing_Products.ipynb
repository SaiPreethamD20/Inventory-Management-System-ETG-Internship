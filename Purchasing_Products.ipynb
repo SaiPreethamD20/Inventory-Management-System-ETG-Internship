{
  "nbformat": 4,
  "nbformat_minor": 0,
  "metadata": {
    "colab": {
      "name": "Purchasing Products.ipynb",
      "provenance": []
    },
    "kernelspec": {
      "name": "python3",
      "display_name": "Python 3"
    },
    "language_info": {
      "name": "python"
    }
  },
  "cells": [
    {
      "cell_type": "markdown",
      "metadata": {
        "id": "UIk0r_t5uwYa"
      },
      "source": [
        "**PURCHASE** **ITEMS**"
      ]
    },
    {
      "cell_type": "code",
      "metadata": {
        "id": "R38iUqgQ7CL6"
      },
      "source": [
        "fr = open(\"products.json\",\"r\")\n",
        "txt = fr.read()\n",
        "fr.close()\n",
        "\n",
        "products = json.loads(txt)\n",
        "\n"
      ],
      "execution_count": 9,
      "outputs": []
    },
    {
      "cell_type": "markdown",
      "metadata": {
        "id": "3STHj1417S_T"
      },
      "source": [
        "**Showing Available Products to the Customer**"
      ]
    },
    {
      "cell_type": "code",
      "metadata": {
        "colab": {
          "base_uri": "https://localhost:8080/"
        },
        "id": "2V59m_n_Z0wJ",
        "outputId": "63fde06f-f520-4057-e26c-8ca71881eba2"
      },
      "source": [
        "print(\"*********************Welcome sir/madam :)**************************\");\n",
        "print(\"***************What do you want to buy sir/madam*******************\");\n",
        "print(\"*****These are the list items available in our store sir/madam*****\");\n",
        "\n",
        "\n",
        "#displaying items\n",
        "\n",
        "for i in products:\n",
        "    print(\"           \",i , \"       -         \" , products[i][\"item_name\"]);"
      ],
      "execution_count": 10,
      "outputs": [
        {
          "output_type": "stream",
          "name": "stdout",
          "text": [
            "*********************Welcome sir/madam :)**************************\n",
            "***************What do you want to buy sir/madam*******************\n",
            "*****These are the list items available in our store sir/madam*****\n",
            "            1001        -          Dairy Milk\n",
            "            1002        -          5-Star\n",
            "            1003        -          Munch\n",
            "            1004        -          Lays\n",
            "            1005        -          Bingo\n",
            "            1006        -          Thumbs Up\n",
            "            1007        -          Sprite\n",
            "            1008        -          Dairy Milk Silk\n",
            "            1009        -          Dark Chocolate\n",
            "            1010        -          5-Star Medium\n",
            "            1011        -          Perk\n",
            "            1012        -          Dairy Milk Shorts\n",
            "            1013        -          Perk Extra Large\n",
            "            1014        -          Kinder Joy\n",
            "            1015        -          Gems Packets\n",
            "            1016        -          Gems Ball\n",
            "            1017        -          Sprite Soda\n",
            "            1018        -          Fanta\n",
            "            1019        -          Maaza\n",
            "            1020        -          Maggi\n",
            "            1021        -          Britania Cake\n",
            "            1022        -          Good Day\n",
            "            1023        -          Oreo\n",
            "            1024        -          Haldirams Mixture\n",
            "            1025        -          Haldirams Moong Dal\n",
            "            1026        -          Britania Cookies\n",
            "            1027        -          Kisses Chocolate\n",
            "            1028        -          Eclairs\n",
            "            1029        -          Jim Jam\n",
            "            1030        -          Lolly Pops\n",
            "            1031        -          Noodles\n",
            "            1032        -          Paneer\n"
          ]
        }
      ]
    },
    {
      "cell_type": "markdown",
      "metadata": {
        "id": "F86_Smnj6PgF"
      },
      "source": [
        "**Asking Customer**"
      ]
    },
    {
      "cell_type": "code",
      "metadata": {
        "colab": {
          "base_uri": "https://localhost:8080/"
        },
        "id": "Vv86gAbHaxdn",
        "outputId": "cfb40139-97f6-4443-8eb5-6d4d3ef93738"
      },
      "source": [
        "#asking from customer\n",
        "\n",
        "no_of_items = 1;\n",
        "bill = 0;\n",
        "\n",
        "\n",
        "items_bought ={};     #items bought is keeping in the dictionary\n",
        "\n",
        "while(no_of_items):\n",
        "\n",
        "    fr = open(\"products.json\",\"r\");\n",
        "    txt = fr.read();\n",
        "    fr.close();\n",
        "\n",
        "    products = json.loads(txt);\n",
        "\n",
        "\n",
        "    id = input(\"Enter the id of the item sir/madam:\");\n",
        "    quant = int(input(\"Enter number of items do you want:\"));\n",
        "    \n",
        "\n",
        "\n",
        "    #if id is not present :\n",
        "\n",
        "    if id in products:\n",
        "      pass;\n",
        "    else:\n",
        "        continue;\n",
        "\n",
        "\n",
        "\n",
        "    #if entered quant is more than item quantity in the store\n",
        "    if(quant > products[id][\"quantity\"]):\n",
        "        print(\"Sorry sir/madam , quantity of items are less than you have entered\");\n",
        "        continue;\n",
        "\n",
        "\n",
        "    ##items a costumer bought storing in dictionary\n",
        "    new_item = {id : {\"name\" : products[id][\"item_name\"] , \"quantity\" : quant , \"price\" : products[id][\"price\"]}};\n",
        "    if id in items_bought:  ##if costumer opts same product 2 times\n",
        "        items_bought[id][\"quantity\"] += quant;\n",
        "    else:\n",
        "        items_bought.update(new_item) ;\n",
        "\n",
        "\n",
        "\n",
        "    #modifying values\n",
        "\n",
        "    products[id][\"quantity\"] = products[id][\"quantity\"] - quant ;\n",
        "\n",
        "    js = json.dumps(products);\n",
        "    fd = open(\"products.json\",\"w\");\n",
        "    fd.write(js);\n",
        "    fd.close();\n",
        "\n",
        "\n",
        "    bill = bill + quant * (products[id][\"price\"]);\n",
        "\n",
        "    no_of_items = int(input(\"Do you want another item - then enter 1 otherwise enter 0: \"));"
      ],
      "execution_count": 27,
      "outputs": [
        {
          "name": "stdout",
          "output_type": "stream",
          "text": [
            "Enter the id of the item sir/madam:1023\n",
            "Enter number of items do you want:1\n",
            "Do you want another item - then enter 1 otherwise enter 0: 0\n"
          ]
        }
      ]
    },
    {
      "cell_type": "markdown",
      "metadata": {
        "id": "QncxX42W7jtX"
      },
      "source": [
        "**Billing**"
      ]
    },
    {
      "cell_type": "code",
      "metadata": {
        "colab": {
          "base_uri": "https://localhost:8080/"
        },
        "id": "bmdcNHpResK3",
        "outputId": "e273fabe-03fc-4508-9793-074884e05d17"
      },
      "source": [
        "#billing and storing the data\n",
        "\n",
        "link_number  =   {};\n",
        "\n",
        "phone_number  =  input(\"sir/madam... please enter your phone number\");\n",
        "\n",
        "for i in link_number:\n",
        "\n",
        "    if phone_number in i:\n",
        "        discount = 2;\n",
        "        break;\n",
        "else:\n",
        "    discount = 1;\n",
        "\n",
        "#{9099999999 : {id : \"1001\" , \"item_name\" : \"dairy_milk\" , \"quantity\" : 10\" }};\n",
        "link_number_with_items = {phone_number : items_bought }     #making dict with the items bought\n",
        "\n",
        "\n",
        "#forming a 3d dict day wise(keys)\n",
        "#{2021-09-03  :  { 9099999999 :  {  id : \"1001\" , \"item_name\": \"dairy milk\"  , \"quantity\" : 10  }  }}\n",
        "\n",
        "\n",
        "\n",
        "\n",
        "sold_items = {str(date.today()) : link_number_with_items}\n",
        "js_sold = json.dumps(sold_items);\n",
        "fd_sold = open(\"sold_items_per_day.json\",\"a\");\n",
        "fd_sold.write(js_sold) ;\n",
        "fd_sold.write(\"\\n\");\n",
        "fd_sold.close();\n",
        "\n",
        "\n",
        "#BILLING using items_bought\n",
        "\n",
        "index_in_bill =1;\n",
        "\n",
        "print(\"index   item id            item name     quantity item_price items_price\")\n",
        "for item_id in items_bought :\n",
        "    print(index_in_bill , \".     \" , item_id ,\"          \" , items_bought[item_id][\"name\"], \"        \" ,items_bought[item_id][\"quantity\"], \"   *  \" , items_bought[item_id][\"price\"],\"   =    \"  ,  items_bought[item_id][\"quantity\"] * items_bought[item_id][\"price\"]);\n",
        "    index_in_bill+=1;\n",
        "\n",
        "print(\"             Your bill is :\" ,            (bill*(100-discount))/100.0);\n",
        "\n",
        "print(\"Thank you sir/madam.... Please visit again\");"
      ],
      "execution_count": 28,
      "outputs": [
        {
          "output_type": "stream",
          "name": "stdout",
          "text": [
            "sir/madam... please enter your phone number789863132\n",
            "index   item id            item name     quantity item_price items_price\n",
            "1 .      1023            Oreo          1    *   10    =     10\n",
            "             Your bill is : 9.9\n",
            "Thank you sir/madam.... Please visit again\n"
          ]
        }
      ]
    }
  ]
}